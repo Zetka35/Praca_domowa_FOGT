{
 "cells": [
  {
   "cell_type": "code",
   "execution_count": null,
   "metadata": {},
   "outputs": [],
   "source": [
    "import sympy as sp\n",
    "import numpy as np\n",
    "from scipy.integrate import quad\n",
    "from scipy.stats import norm\n",
    "import matplotlib.pyplot as plt\n",
    "from sympy.utilities import lambdify\n",
    "from matplotlib.animation import FuncAnimation\n",
    "from IPython.display import HTML\n",
    "from numpy import sqrt"
   ]
  },
  {
   "cell_type": "code",
   "execution_count": null,
   "metadata": {},
   "outputs": [],
   "source": [
    "sp.init_printing()"
   ]
  },
  {
   "cell_type": "code",
   "execution_count": null,
   "metadata": {},
   "outputs": [],
   "source": [
    "x = sp.Symbol('x', real=True)\n",
    "k = sp.Symbol('k', real=True, positive=True)\n",
    "a = sp.Symbol('a', real=True)\n",
    "m = sp.Symbol('m', real=True, positive=True)\n",
    "t = sp.Symbol('t', real=True, positive=True)\n",
    "h = sp.Symbol('hbar', real=True, positive=True)\n",
    "n = sp.Symbol('n', integer=True, nonzero=True)\n",
    "psi = sp.Function('psi')\n",
    "\n",
    "x, k, a, m, t, h, n, psi(x)"
   ]
  },
  {
   "cell_type": "markdown",
   "metadata": {},
   "source": [
    "$$\\frac{d^2\\psi(x)}{dx^2} = -k^2\\psi(x)$$"
   ]
  },
  {
   "cell_type": "code",
   "execution_count": null,
   "metadata": {},
   "outputs": [],
   "source": [
    "psi(x).diff(x, x)"
   ]
  },
  {
   "cell_type": "code",
   "execution_count": null,
   "metadata": {},
   "outputs": [],
   "source": [
    "-k**2 * psi(x)"
   ]
  },
  {
   "cell_type": "code",
   "execution_count": null,
   "metadata": {},
   "outputs": [],
   "source": [
    "eq = sp.Eq(psi(x).diff(x, x), -k**2 * psi(x))\n",
    "eq"
   ]
  },
  {
   "cell_type": "code",
   "execution_count": null,
   "metadata": {},
   "outputs": [],
   "source": [
    "sp.dsolve(eq, psi(x))"
   ]
  },
  {
   "cell_type": "code",
   "execution_count": null,
   "metadata": {},
   "outputs": [],
   "source": [
    "sp.dsolve(eq, psi(x), ics={psi(0): 0, psi(a): 0})"
   ]
  },
  {
   "cell_type": "code",
   "execution_count": null,
   "metadata": {},
   "outputs": [],
   "source": [
    "sol = sp.dsolve(eq, psi(x), ics={psi(0): 0})\n",
    "sol"
   ]
  },
  {
   "cell_type": "code",
   "execution_count": null,
   "metadata": {},
   "outputs": [],
   "source": [
    "plt.hlines(np.arange(1, 10)**2, 0, 1)"
   ]
  },
  {
   "cell_type": "code",
   "execution_count": null,
   "metadata": {},
   "outputs": [],
   "source": [
    "sol = sol.subs(k, n * sp.pi / a)\n",
    "sol"
   ]
  },
  {
   "cell_type": "code",
   "execution_count": null,
   "metadata": {},
   "outputs": [],
   "source": [
    "sol.lhs, sol.rhs"
   ]
  },
  {
   "cell_type": "code",
   "execution_count": null,
   "metadata": {},
   "outputs": [],
   "source": [
    "sp.Abs(sol.rhs)**2"
   ]
  },
  {
   "cell_type": "code",
   "execution_count": null,
   "metadata": {},
   "outputs": [],
   "source": [
    "sp.integrate(sol.rhs**2, (x, 0, a))"
   ]
  },
  {
   "cell_type": "code",
   "execution_count": null,
   "metadata": {},
   "outputs": [],
   "source": [
    "sol = sol.subs(sp.Symbol('C1'), sp.sqrt(2 / a))\n",
    "sol"
   ]
  },
  {
   "cell_type": "code",
   "execution_count": null,
   "metadata": {},
   "outputs": [],
   "source": [
    "En = n**2 * sp.pi**2 * h**2 / (2 * m * a**2)\n",
    "En"
   ]
  },
  {
   "cell_type": "code",
   "execution_count": null,
   "metadata": {},
   "outputs": [],
   "source": [
    "phi = sp.exp(-sp.I * En * t / h)\n",
    "phi"
   ]
  },
  {
   "cell_type": "code",
   "execution_count": null,
   "metadata": {},
   "outputs": [],
   "source": [
    "Psi = sol.rhs * phi\n",
    "Psi"
   ]
  },
  {
   "cell_type": "code",
   "execution_count": null,
   "metadata": {},
   "outputs": [],
   "source": [
    "Psif = lambdify((x, t, n), Psi.subs({a: 1, m: 1, h: 1}))\n",
    "Psif"
   ]
  },
  {
   "cell_type": "code",
   "execution_count": null,
   "metadata": {},
   "outputs": [],
   "source": [
    "Psif(0.3, 2.3, 1)"
   ]
  },
  {
   "cell_type": "code",
   "execution_count": null,
   "metadata": {},
   "outputs": [],
   "source": [
    "xs = np.linspace(0, 1, 1000)\n",
    "\n",
    "plt.grid(linestyle='--')\n",
    "\n",
    "ys = Psif(xs, 0, 1).real\n",
    "plt.plot(xs, ys)\n",
    "\n",
    "ys = Psif(xs, 0, 2).real\n",
    "plt.plot(xs, ys)\n",
    "\n",
    "ys = Psif(xs, 0, 3).real\n",
    "plt.plot(xs, ys)"
   ]
  },
  {
   "cell_type": "code",
   "execution_count": null,
   "metadata": {},
   "outputs": [],
   "source": [
    "n = 3\n",
    "\n",
    "xs = np.linspace(0, 1, 1000)\n",
    "\n",
    "fig = plt.figure()\n",
    "\n",
    "plt.xlim(0, 1)\n",
    "plt.ylim(-1.5, 1.5)\n",
    "\n",
    "plot1, = plt.plot([], [])\n",
    "plot2, = plt.plot([], [])\n",
    "\n",
    "plt.close()\n",
    "\n",
    "dt = 0.001\n",
    "\n",
    "def frame(i):\n",
    "    ys = Psif(xs, i * dt, n)\n",
    "\n",
    "    plot1.set_data(xs, ys.real)\n",
    "    plot2.set_data(xs, ys.imag)\n",
    "\n",
    "    return plot1, plot2\n",
    "\n",
    "anim = FuncAnimation(fig, frame, frames=300, interval=20, blit=True)\n",
    "HTML(anim.to_jshtml())"
   ]
  },
  {
   "cell_type": "code",
   "execution_count": null,
   "metadata": {},
   "outputs": [],
   "source": [
    "n = 2\n",
    "\n",
    "xs = np.linspace(0, 1, 1000)\n",
    "\n",
    "fig = plt.figure()\n",
    "\n",
    "plt.xlim(0, 1)\n",
    "plt.ylim(0, 3)\n",
    "\n",
    "plot1, = plt.plot([], [])\n",
    "\n",
    "\n",
    "plt.close()\n",
    "\n",
    "dt = 0.001\n",
    "\n",
    "def frame(i):\n",
    "    ys = Psif(xs, i * dt, n)\n",
    "\n",
    "    plot1.set_data(xs, np.abs(ys)**2)\n",
    "\n",
    "    return plot1,\n",
    "\n",
    "anim = FuncAnimation(fig, frame, frames=300, interval=20, blit=True)\n",
    "HTML(anim.to_jshtml())"
   ]
  },
  {
   "cell_type": "code",
   "execution_count": null,
   "metadata": {},
   "outputs": [],
   "source": [
    "xs = np.linspace(0, 1, 1000)\n",
    "\n",
    "fig = plt.figure()\n",
    "\n",
    "plt.xlim(0, 1)\n",
    "plt.ylim(0, 4)\n",
    "\n",
    "plot1, = plt.plot([], [])\n",
    "\n",
    "\n",
    "plt.close()\n",
    "\n",
    "dt = 0.001\n",
    "\n",
    "def frame(i):\n",
    "    ys = (1 * Psif(xs, i * dt, 1) + 1 * Psif(xs, i * dt, 2) + Psif(xs, i * dt, 3) + Psif(xs, i * dt, 4)) / np.sqrt(1**2 + 1**2 + 1**2 + 1**2)\n",
    "\n",
    "    plot1.set_data(xs, np.abs(ys)**2)\n",
    "\n",
    "    return plot1,\n",
    "\n",
    "anim = FuncAnimation(fig, frame, frames=600, interval=20, blit=True)\n",
    "HTML(anim.to_jshtml())"
   ]
  },
  {
   "cell_type": "markdown",
   "metadata": {},
   "source": [
    "$$<\\omega>=\\int \\Psi^{*} \\hat{\\omega} \\Psi\\ dx$$\n",
    "W stanie stacjonarnym\n",
    "$$<\\omega>=\\int \\psi^{*} \\hat{\\omega} \\psi\\ dx$$\n",
    "\n",
    "$$\\hat{x}=x$$"
   ]
  },
  {
   "cell_type": "code",
   "execution_count": null,
   "metadata": {},
   "outputs": [],
   "source": [
    "sol.rhs * x * sol.rhs"
   ]
  },
  {
   "cell_type": "code",
   "execution_count": null,
   "metadata": {},
   "outputs": [],
   "source": [
    "avx = sp.integrate(sol.rhs * x * sol.rhs, (x, 0, a)).simplify()\n",
    "avx"
   ]
  },
  {
   "cell_type": "code",
   "execution_count": null,
   "metadata": {},
   "outputs": [],
   "source": [
    "avx2 = sp.integrate(sol.rhs * x**2 * sol.rhs, (x, 0, a)).simplify()\n",
    "avx2"
   ]
  },
  {
   "cell_type": "markdown",
   "metadata": {},
   "source": [
    "$$\\sigma_X^2=<x^2>-<x>^2$$"
   ]
  },
  {
   "cell_type": "markdown",
   "metadata": {},
   "source": [
    "$$<p>=?$$\n",
    "$$<p^2>=?$$\n",
    "$$\\sigma_P^2=?$$\n",
    "\n",
    "$$\\sigma_X \\sigma_P \\geq \\frac{\\hbar}{2}$$\n",
    "\n",
    "Spradzić, czy ta zasada nieoznaczoności jest faktycznie dla tej studni potencjału spełniona."
   ]
  },
  {
   "cell_type": "markdown",
   "metadata": {},
   "source": [
    "Obliczamy $$\\sigma_X^2$$"
   ]
  },
  {
   "cell_type": "code",
   "execution_count": null,
   "metadata": {},
   "outputs": [],
   "source": [
    "varx = avx2 - avx**2\n",
    "varx"
   ]
  },
  {
   "cell_type": "markdown",
   "metadata": {},
   "source": [
    "Ze wzoru: $$[\\hat{x},\\hat{p}] = i{\\hbar} $$ wyznaczamy p:"
   ]
  },
  {
   "cell_type": "code",
   "execution_count": null,
   "metadata": {},
   "outputs": [],
   "source": [
    "p = sp.I*h*sol.rhs.diff(x)\n",
    "p"
   ]
  },
  {
   "cell_type": "markdown",
   "metadata": {},
   "source": [
    "Podobnie jak przy x, obliczamy $$<p^2> i <p>^2$$"
   ]
  },
  {
   "cell_type": "code",
   "execution_count": null,
   "metadata": {},
   "outputs": [],
   "source": [
    "avp = sp.integrate(sol.rhs * p * sol.rhs, (x, 0, a)).simplify()\n",
    "avp"
   ]
  },
  {
   "cell_type": "code",
   "execution_count": null,
   "metadata": {},
   "outputs": [],
   "source": [
    "avp2 = sp.integrate(sol.rhs * p**2 * sol.rhs, (x, 0, a)).simplify()\n",
    "avp2"
   ]
  },
  {
   "cell_type": "code",
   "execution_count": null,
   "metadata": {},
   "outputs": [],
   "source": [
    "varp= avp2 - avp**2\n",
    "varp"
   ]
  },
  {
   "cell_type": "markdown",
   "metadata": {},
   "source": [
    "Następnie liczymy lewą stronę równania:\n",
    "$$\\sigma_X \\sigma_P \\geq \\frac{\\hbar}{2}$$"
   ]
  },
  {
   "cell_type": "code",
   "execution_count": null,
   "metadata": {},
   "outputs": [],
   "source": [
    "L = (varx*varp)**(1/2)\n",
    "L"
   ]
  },
  {
   "cell_type": "code",
   "execution_count": null,
   "metadata": {},
   "outputs": [],
   "source": [
    "EQ = sp.GreaterThan(L, h/2)\n",
    "EQ"
   ]
  },
  {
   "cell_type": "code",
   "execution_count": null,
   "metadata": {},
   "outputs": [],
   "source": [
    "(L).compare(h/2)"
   ]
  },
  {
   "cell_type": "markdown",
   "metadata": {},
   "source": [
    "Funkcja compare służy do porównywania stron równania. W momencie gdy ta funkcja zwraca 1, lewa strona równania jest większa niż prawa. To dowodzi że, zasada nieoznaczoności jest spełniona dla tej studni potencjału."
   ]
  }
 ],
 "metadata": {
  "kernelspec": {
   "display_name": "Python 3 (ipykernel)",
   "language": "python",
   "name": "python3"
  },
  "language_info": {
   "codemirror_mode": {
    "name": "ipython",
    "version": 3
   },
   "file_extension": ".py",
   "mimetype": "text/x-python",
   "name": "python",
   "nbconvert_exporter": "python",
   "pygments_lexer": "ipython3",
   "version": "3.9.13"
  }
 },
 "nbformat": 4,
 "nbformat_minor": 4
}
